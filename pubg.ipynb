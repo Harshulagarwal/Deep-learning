{
  "cells": [
    {
      "metadata": {
        "_uuid": "8f2839f25d086af736a60e9eeb907d3b93b6e0e5",
        "_cell_guid": "b1076dfc-b9ad-4769-8c92-a6c4dae69d19",
        "trusted": true
      },
      "cell_type": "code",
      "source": "# This Python 3 environment comes with many helpful analytics libraries installed\n# It is defined by the kaggle/python docker image: https://github.com/kaggle/docker-python\n# For example, here's several helpful packages to load in \n\nimport numpy as np # linear algebra\nimport pandas as pd # data processing, CSV file I/O (e.g. pd.read_csv)\n\n# Input data files are available in the \"../input/\" directory.\n# For example, running this (by clicking run or pressing Shift+Enter) will list the files in the input directory\n\nimport os\nprint(os.listdir(\"../input\"))\n\n# Any results you write to the current directory are saved as output.",
      "execution_count": 1,
      "outputs": [
        {
          "output_type": "stream",
          "text": "['train_V2.csv', 'test_V2.csv', 'sample_submission_V2.csv']\n",
          "name": "stdout"
        }
      ]
    },
    {
      "metadata": {
        "_cell_guid": "79c7e3d0-c299-4dcb-8224-4455121ee9b0",
        "_uuid": "d629ff2d2480ee46fbb7e2d37f6b5fab8052498a",
        "trusted": true
      },
      "cell_type": "code",
      "source": "from keras.models import Sequential\nfrom keras.layers import Dense , Dropout , Flatten\nfrom keras.optimizers import Adam \nfrom sklearn.model_selection import train_test_split\nfrom keras.preprocessing.image import ImageDataGenerator\nimport pandas as pd\nimport numpy as np\n",
      "execution_count": 2,
      "outputs": [
        {
          "output_type": "stream",
          "text": "Using TensorFlow backend.\n",
          "name": "stderr"
        }
      ]
    },
    {
      "metadata": {
        "trusted": true,
        "_uuid": "3667b9adede7b620c45a079e7004cd6d7d809df9"
      },
      "cell_type": "code",
      "source": "df = pd.read_csv(\"../input/train_V2.csv\")\ndf1 = pd.read_csv(\"../input/test_V2.csv\")\n\nprint(df.shape)\n",
      "execution_count": 3,
      "outputs": [
        {
          "output_type": "stream",
          "text": "(4446966, 29)\n",
          "name": "stdout"
        }
      ]
    },
    {
      "metadata": {
        "trusted": true,
        "_uuid": "2b098880b32a781236e114136f9804a0c2780894"
      },
      "cell_type": "code",
      "source": "df.head()",
      "execution_count": 4,
      "outputs": [
        {
          "output_type": "execute_result",
          "execution_count": 4,
          "data": {
            "text/plain": "               Id         groupId      ...      winPoints  winPlacePerc\n0  7f96b2f878858a  4d4b580de459be      ...           1466        0.4444\n1  eef90569b9d03c  684d5656442f9e      ...              0        0.6400\n2  1eaf90ac73de72  6a4a42c3245a74      ...              0        0.7755\n3  4616d365dd2853  a930a9c79cd721      ...              0        0.1667\n4  315c96c26c9aac  de04010b3458dd      ...              0        0.1875\n\n[5 rows x 29 columns]",
            "text/html": "<div>\n<style scoped>\n    .dataframe tbody tr th:only-of-type {\n        vertical-align: middle;\n    }\n\n    .dataframe tbody tr th {\n        vertical-align: top;\n    }\n\n    .dataframe thead th {\n        text-align: right;\n    }\n</style>\n<table border=\"1\" class=\"dataframe\">\n  <thead>\n    <tr style=\"text-align: right;\">\n      <th></th>\n      <th>Id</th>\n      <th>groupId</th>\n      <th>matchId</th>\n      <th>assists</th>\n      <th>boosts</th>\n      <th>damageDealt</th>\n      <th>DBNOs</th>\n      <th>headshotKills</th>\n      <th>heals</th>\n      <th>killPlace</th>\n      <th>killPoints</th>\n      <th>kills</th>\n      <th>killStreaks</th>\n      <th>longestKill</th>\n      <th>matchDuration</th>\n      <th>matchType</th>\n      <th>maxPlace</th>\n      <th>numGroups</th>\n      <th>rankPoints</th>\n      <th>revives</th>\n      <th>rideDistance</th>\n      <th>roadKills</th>\n      <th>swimDistance</th>\n      <th>teamKills</th>\n      <th>vehicleDestroys</th>\n      <th>walkDistance</th>\n      <th>weaponsAcquired</th>\n      <th>winPoints</th>\n      <th>winPlacePerc</th>\n    </tr>\n  </thead>\n  <tbody>\n    <tr>\n      <th>0</th>\n      <td>7f96b2f878858a</td>\n      <td>4d4b580de459be</td>\n      <td>a10357fd1a4a91</td>\n      <td>0</td>\n      <td>0</td>\n      <td>0.00</td>\n      <td>0</td>\n      <td>0</td>\n      <td>0</td>\n      <td>60</td>\n      <td>1241</td>\n      <td>0</td>\n      <td>0</td>\n      <td>0.00</td>\n      <td>1306</td>\n      <td>squad-fpp</td>\n      <td>28</td>\n      <td>26</td>\n      <td>-1</td>\n      <td>0</td>\n      <td>0.0000</td>\n      <td>0</td>\n      <td>0.00</td>\n      <td>0</td>\n      <td>0</td>\n      <td>244.80</td>\n      <td>1</td>\n      <td>1466</td>\n      <td>0.4444</td>\n    </tr>\n    <tr>\n      <th>1</th>\n      <td>eef90569b9d03c</td>\n      <td>684d5656442f9e</td>\n      <td>aeb375fc57110c</td>\n      <td>0</td>\n      <td>0</td>\n      <td>91.47</td>\n      <td>0</td>\n      <td>0</td>\n      <td>0</td>\n      <td>57</td>\n      <td>0</td>\n      <td>0</td>\n      <td>0</td>\n      <td>0.00</td>\n      <td>1777</td>\n      <td>squad-fpp</td>\n      <td>26</td>\n      <td>25</td>\n      <td>1484</td>\n      <td>0</td>\n      <td>0.0045</td>\n      <td>0</td>\n      <td>11.04</td>\n      <td>0</td>\n      <td>0</td>\n      <td>1434.00</td>\n      <td>5</td>\n      <td>0</td>\n      <td>0.6400</td>\n    </tr>\n    <tr>\n      <th>2</th>\n      <td>1eaf90ac73de72</td>\n      <td>6a4a42c3245a74</td>\n      <td>110163d8bb94ae</td>\n      <td>1</td>\n      <td>0</td>\n      <td>68.00</td>\n      <td>0</td>\n      <td>0</td>\n      <td>0</td>\n      <td>47</td>\n      <td>0</td>\n      <td>0</td>\n      <td>0</td>\n      <td>0.00</td>\n      <td>1318</td>\n      <td>duo</td>\n      <td>50</td>\n      <td>47</td>\n      <td>1491</td>\n      <td>0</td>\n      <td>0.0000</td>\n      <td>0</td>\n      <td>0.00</td>\n      <td>0</td>\n      <td>0</td>\n      <td>161.80</td>\n      <td>2</td>\n      <td>0</td>\n      <td>0.7755</td>\n    </tr>\n    <tr>\n      <th>3</th>\n      <td>4616d365dd2853</td>\n      <td>a930a9c79cd721</td>\n      <td>f1f1f4ef412d7e</td>\n      <td>0</td>\n      <td>0</td>\n      <td>32.90</td>\n      <td>0</td>\n      <td>0</td>\n      <td>0</td>\n      <td>75</td>\n      <td>0</td>\n      <td>0</td>\n      <td>0</td>\n      <td>0.00</td>\n      <td>1436</td>\n      <td>squad-fpp</td>\n      <td>31</td>\n      <td>30</td>\n      <td>1408</td>\n      <td>0</td>\n      <td>0.0000</td>\n      <td>0</td>\n      <td>0.00</td>\n      <td>0</td>\n      <td>0</td>\n      <td>202.70</td>\n      <td>3</td>\n      <td>0</td>\n      <td>0.1667</td>\n    </tr>\n    <tr>\n      <th>4</th>\n      <td>315c96c26c9aac</td>\n      <td>de04010b3458dd</td>\n      <td>6dc8ff871e21e6</td>\n      <td>0</td>\n      <td>0</td>\n      <td>100.00</td>\n      <td>0</td>\n      <td>0</td>\n      <td>0</td>\n      <td>45</td>\n      <td>0</td>\n      <td>1</td>\n      <td>1</td>\n      <td>58.53</td>\n      <td>1424</td>\n      <td>solo-fpp</td>\n      <td>97</td>\n      <td>95</td>\n      <td>1560</td>\n      <td>0</td>\n      <td>0.0000</td>\n      <td>0</td>\n      <td>0.00</td>\n      <td>0</td>\n      <td>0</td>\n      <td>49.75</td>\n      <td>2</td>\n      <td>0</td>\n      <td>0.1875</td>\n    </tr>\n  </tbody>\n</table>\n</div>"
          },
          "metadata": {}
        }
      ]
    },
    {
      "metadata": {
        "trusted": true,
        "_uuid": "6e7d436d8f3fd5e610c0bc31a59fc4bf7ee1db96"
      },
      "cell_type": "code",
      "source": "x_train=df.iloc[:,3:28].values\ny_train=df.iloc[:,28].values\nx_test=df1.iloc[:,3:28].values",
      "execution_count": 5,
      "outputs": []
    },
    {
      "metadata": {
        "trusted": true,
        "_uuid": "2bd3fe81feb4a8405c3a9309b135807e02c5e442"
      },
      "cell_type": "code",
      "source": "from sklearn.preprocessing import LabelEncoder,OneHotEncoder\nle=LabelEncoder()\nx_train[:,12]=le.fit_transform(x_train[:,12])\nx_test[:,12]=le.fit_transform(x_test[:,12])\n",
      "execution_count": 6,
      "outputs": []
    },
    {
      "metadata": {
        "trusted": true,
        "_uuid": "9b4acaf80eafcabc5343e1fa895a4426866665c7"
      },
      "cell_type": "code",
      "source": "print(x_train[:,12])",
      "execution_count": 7,
      "outputs": [
        {
          "output_type": "stream",
          "text": "[15 15 2 ... 15 15 13]\n",
          "name": "stdout"
        }
      ]
    },
    {
      "metadata": {
        "trusted": true,
        "_uuid": "01677d3148284d3f34501899eba4684797fa0206"
      },
      "cell_type": "code",
      "source": "onehot=OneHotEncoder(categorical_features=[12])\nx_train=onehot.fit_transform(x_train).toarray()\nx_test=onehot.fit_transform(x_test).toarray()",
      "execution_count": 8,
      "outputs": [
        {
          "output_type": "stream",
          "text": "/opt/conda/lib/python3.6/site-packages/sklearn/preprocessing/_encoders.py:368: FutureWarning: The handling of integer data will change in version 0.22. Currently, the categories are determined based on the range [0, max(values)], while in the future they will be determined based on the unique values.\nIf you want the future behaviour and silence this warning, you can specify \"categories='auto'\".\nIn case you used a LabelEncoder before this OneHotEncoder to convert the categories to integers, then you can now use the OneHotEncoder directly.\n  warnings.warn(msg, FutureWarning)\n/opt/conda/lib/python3.6/site-packages/sklearn/preprocessing/_encoders.py:390: DeprecationWarning: The 'categorical_features' keyword is deprecated in version 0.20 and will be removed in 0.22. You can use the ColumnTransformer instead.\n  \"use the ColumnTransformer instead.\", DeprecationWarning)\n/opt/conda/lib/python3.6/site-packages/sklearn/preprocessing/_encoders.py:368: FutureWarning: The handling of integer data will change in version 0.22. Currently, the categories are determined based on the range [0, max(values)], while in the future they will be determined based on the unique values.\nIf you want the future behaviour and silence this warning, you can specify \"categories='auto'\".\nIn case you used a LabelEncoder before this OneHotEncoder to convert the categories to integers, then you can now use the OneHotEncoder directly.\n  warnings.warn(msg, FutureWarning)\n/opt/conda/lib/python3.6/site-packages/sklearn/preprocessing/_encoders.py:390: DeprecationWarning: The 'categorical_features' keyword is deprecated in version 0.20 and will be removed in 0.22. You can use the ColumnTransformer instead.\n  \"use the ColumnTransformer instead.\", DeprecationWarning)\n",
          "name": "stderr"
        }
      ]
    },
    {
      "metadata": {
        "trusted": true,
        "_uuid": "b987549996128e518876420bd4589c3b5011ff0b"
      },
      "cell_type": "code",
      "source": "x_train",
      "execution_count": 9,
      "outputs": [
        {
          "output_type": "execute_result",
          "execution_count": 9,
          "data": {
            "text/plain": "array([[0.000e+00, 0.000e+00, 0.000e+00, ..., 2.448e+02, 1.000e+00,\n        1.466e+03],\n       [0.000e+00, 0.000e+00, 0.000e+00, ..., 1.434e+03, 5.000e+00,\n        0.000e+00],\n       [0.000e+00, 0.000e+00, 1.000e+00, ..., 1.618e+02, 2.000e+00,\n        0.000e+00],\n       ...,\n       [0.000e+00, 0.000e+00, 0.000e+00, ..., 7.887e+02, 4.000e+00,\n        0.000e+00],\n       [0.000e+00, 0.000e+00, 0.000e+00, ..., 2.748e+03, 8.000e+00,\n        0.000e+00],\n       [0.000e+00, 0.000e+00, 0.000e+00, ..., 1.244e+03, 5.000e+00,\n        0.000e+00]])"
          },
          "metadata": {}
        }
      ]
    },
    {
      "metadata": {
        "trusted": true,
        "_uuid": "bfe007469894e7287c00ac6c6e9f90f815fa11ba"
      },
      "cell_type": "code",
      "source": "from sklearn.preprocessing import StandardScaler\nsc=StandardScaler()\nsc.fit(x_train)\nsc.fit(x_test)\n",
      "execution_count": 10,
      "outputs": [
        {
          "output_type": "execute_result",
          "execution_count": 10,
          "data": {
            "text/plain": "StandardScaler(copy=True, with_mean=True, with_std=True)"
          },
          "metadata": {}
        }
      ]
    },
    {
      "metadata": {
        "trusted": true,
        "_uuid": "ecaf21356b3790e7f1646c61990222361ca686dc"
      },
      "cell_type": "code",
      "source": "print(x_train.shape)\nfor i in range(0,40):\n    x_train[:,i]=x_train[:,i]/max(x_train[:,i])\nfor i1 in range(0,40):\n    x_test[:,i1]=x_test[:,i1]/max(x_test[:,i1])    ",
      "execution_count": 11,
      "outputs": [
        {
          "output_type": "stream",
          "text": "(4446966, 40)\n",
          "name": "stdout"
        }
      ]
    },
    {
      "metadata": {
        "trusted": true,
        "_uuid": "7d4f8a0ccaacc3641e56b3665a15139e570b3d4e"
      },
      "cell_type": "code",
      "source": "from sklearn.decomposition import PCA\npca=PCA(n_components=10)\nx_train=pca.fit_transform(x_train)\nx_test=pca.fit_transform(x_test)\n\nexpvar=pca.explained_variance_ratio_\nexpvar\n",
      "execution_count": 12,
      "outputs": [
        {
          "output_type": "execute_result",
          "execution_count": 12,
          "data": {
            "text/plain": "array([0.28755754, 0.19297107, 0.16650471, 0.14264905, 0.06879098,\n       0.06801818, 0.04286461, 0.01111407, 0.00444137, 0.00273514])"
          },
          "metadata": {}
        }
      ]
    },
    {
      "metadata": {
        "trusted": true,
        "_uuid": "64754f11d8776d9ace180dfeb59f25e70e60ebfc"
      },
      "cell_type": "code",
      "source": "x_train",
      "execution_count": 13,
      "outputs": [
        {
          "output_type": "execute_result",
          "execution_count": 13,
          "data": {
            "text/plain": "array([[ 0.76573331,  0.47915954,  0.07937307, ...,  0.09897804,\n         0.00384379, -0.02730405],\n       [ 0.6589183 , -0.47592188,  0.00721778, ..., -0.08973063,\n         0.0112509 , -0.0338613 ],\n       [-0.3079626 , -0.37892598,  0.09637295, ...,  0.16264133,\n        -0.03151905, -0.03091245],\n       ...,\n       [ 0.64777578, -0.47209458,  0.0241055 , ...,  0.11097883,\n        -0.00498454, -0.00366489],\n       [ 0.66298492, -0.46567492,  0.00255351, ...,  0.08722544,\n        -0.00614747,  0.04318252],\n       [-0.77776448, -0.36309972,  0.92746713, ..., -0.07725352,\n        -0.01426065, -0.01459459]])"
          },
          "metadata": {}
        }
      ]
    },
    {
      "metadata": {
        "trusted": true,
        "_uuid": "114a248e4ab4a3ba4eed79db788572b247f6a18e"
      },
      "cell_type": "code",
      "source": "x_train, x_val, y_train, y_val = train_test_split(x_train, y_train, test_size=0.20, random_state=0)\n",
      "execution_count": 14,
      "outputs": []
    },
    {
      "metadata": {
        "trusted": true,
        "_uuid": "c0f97feab21277108274b8e5b3377e971b197cd5"
      },
      "cell_type": "code",
      "source": "print(x_train.shape)",
      "execution_count": 15,
      "outputs": [
        {
          "output_type": "stream",
          "text": "(3557572, 10)\n",
          "name": "stdout"
        }
      ]
    },
    {
      "metadata": {
        "trusted": true,
        "_uuid": "46fb9de9220e2f85235ef42fa5610fca51326c23"
      },
      "cell_type": "code",
      "source": "model=Sequential()\nmodel.add(Dense(1024,activation='relu',input_dim=x_train.shape[1]))\nmodel.add(Dropout(0.1))\nmodel.add(Dense(1,activation='linear'))\nmodel.compile(optimizer='Adam',loss='mean_squared_error',metrics=['mean_absolute_error'])\nmodel.fit(x_train,y_train,epochs=10,batch_size=512)\nmodel.summary()",
      "execution_count": 16,
      "outputs": [
        {
          "output_type": "stream",
          "text": "Epoch 1/10\n3557572/3557572 [==============================] - 29s 8us/step - loss: 0.0182 - mean_absolute_error: 0.0960\nEpoch 2/10\n3557572/3557572 [==============================] - 28s 8us/step - loss: 0.0166 - mean_absolute_error: 0.0911\nEpoch 3/10\n3557572/3557572 [==============================] - 28s 8us/step - loss: 0.0164 - mean_absolute_error: 0.0900\nEpoch 4/10\n3557572/3557572 [==============================] - 28s 8us/step - loss: 0.0163 - mean_absolute_error: 0.0896\nEpoch 5/10\n3557572/3557572 [==============================] - 28s 8us/step - loss: 0.0162 - mean_absolute_error: 0.0893\nEpoch 6/10\n3557572/3557572 [==============================] - 28s 8us/step - loss: 0.0161 - mean_absolute_error: 0.0892\nEpoch 7/10\n3557572/3557572 [==============================] - 29s 8us/step - loss: 0.0160 - mean_absolute_error: 0.0890\nEpoch 8/10\n3557572/3557572 [==============================] - 28s 8us/step - loss: 0.0160 - mean_absolute_error: 0.0889\nEpoch 9/10\n3557572/3557572 [==============================] - 29s 8us/step - loss: 0.0160 - mean_absolute_error: 0.0888\nEpoch 10/10\n3557572/3557572 [==============================] - 29s 8us/step - loss: 0.0160 - mean_absolute_error: 0.0887\n_________________________________________________________________\nLayer (type)                 Output Shape              Param #   \n=================================================================\ndense_1 (Dense)              (None, 1024)              11264     \n_________________________________________________________________\ndropout_1 (Dropout)          (None, 1024)              0         \n_________________________________________________________________\ndense_2 (Dense)              (None, 1)                 1025      \n=================================================================\nTotal params: 12,289\nTrainable params: 12,289\nNon-trainable params: 0\n_________________________________________________________________\n",
          "name": "stdout"
        }
      ]
    },
    {
      "metadata": {
        "trusted": true,
        "_uuid": "832bcd563de6d2a0dc1d7bd01d825b5e41ec930e"
      },
      "cell_type": "code",
      "source": "predictions= model.predict(x_test)\n",
      "execution_count": 17,
      "outputs": []
    },
    {
      "metadata": {
        "trusted": true,
        "_uuid": "5c306c229ee77e9abea148642367f577ac4cd77a"
      },
      "cell_type": "code",
      "source": "predictions=predictions.tolist",
      "execution_count": 20,
      "outputs": []
    },
    {
      "metadata": {
        "trusted": true,
        "_uuid": "44c6185ccaad69325b64e8d4eb0be223d654fb54",
        "_kg_hide-output": true
      },
      "cell_type": "code",
      "source": "my_submission = pd.DataFrame({'Id':df1.Id,'winPlacePerc':predictions})\nmy_submission.to_csv(\"submission.csv\",index=False)\nprint('A submission file has been made')\n\n",
      "execution_count": 23,
      "outputs": [
        {
          "output_type": "stream",
          "text": "A submission file has been made\n",
          "name": "stdout"
        }
      ]
    }
  ],
  "metadata": {
    "kernelspec": {
      "display_name": "Python 3",
      "language": "python",
      "name": "python3"
    },
    "language_info": {
      "name": "python",
      "version": "3.6.6",
      "mimetype": "text/x-python",
      "codemirror_mode": {
        "name": "ipython",
        "version": 3
      },
      "pygments_lexer": "ipython3",
      "nbconvert_exporter": "python",
      "file_extension": ".py"
    }
  },
  "nbformat": 4,
  "nbformat_minor": 1
}